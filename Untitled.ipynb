{
 "cells": [
  {
   "cell_type": "code",
   "execution_count": 3,
   "id": "11813474-52fc-484a-bdc1-2a81d478f32c",
   "metadata": {},
   "outputs": [
    {
     "name": "stdout",
     "output_type": "stream",
     "text": [
      "1  has an upper bound of 1  and a lower bound of  1\n",
      "2  has an upper bound of 1  and a lower bound of  2\n",
      "3  has an upper bound of 1  and a lower bound of  3\n",
      "4  has an upper bound of 1  and a lower bound of  4\n",
      "5  has an upper bound of 1  and a lower bound of  5\n",
      "6  has an upper bound of 1  and a lower bound of  6\n"
     ]
    }
   ],
   "source": [
    "x = [1, 2,3,4,5,6]\n",
    "\n",
    "# For deployment purposes\n",
    "for i in x:\n",
    "    print(\"{}  has an upper bound of {}  and a lower bound of  {}\".format(i, 1, i))"
   ]
  },
  {
   "cell_type": "code",
   "execution_count": null,
   "id": "dcc74a54-c35a-4be2-9b45-d9531485d721",
   "metadata": {},
   "outputs": [],
   "source": []
  }
 ],
 "metadata": {
  "kernelspec": {
   "display_name": "Python 3 (ipykernel)",
   "language": "python",
   "name": "python3"
  },
  "language_info": {
   "codemirror_mode": {
    "name": "ipython",
    "version": 3
   },
   "file_extension": ".py",
   "mimetype": "text/x-python",
   "name": "python",
   "nbconvert_exporter": "python",
   "pygments_lexer": "ipython3",
   "version": "3.9.7"
  }
 },
 "nbformat": 4,
 "nbformat_minor": 5
}
